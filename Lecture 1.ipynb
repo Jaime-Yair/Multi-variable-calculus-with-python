{
 "cells": [
  {
   "cell_type": "code",
   "execution_count": 1,
   "id": "d0b6dfef",
   "metadata": {},
   "outputs": [],
   "source": [
    "# Vectors"
   ]
  },
  {
   "cell_type": "code",
   "execution_count": 2,
   "id": "cda1b006",
   "metadata": {},
   "outputs": [],
   "source": [
    "import numpy as np"
   ]
  },
  {
   "cell_type": "code",
   "execution_count": 3,
   "id": "ca4d4b29",
   "metadata": {},
   "outputs": [],
   "source": [
    "a = np.array([3,2,1])"
   ]
  },
  {
   "cell_type": "code",
   "execution_count": 4,
   "id": "d40d6cf7",
   "metadata": {},
   "outputs": [
    {
     "data": {
      "text/plain": [
       "3.7416573867739413"
      ]
     },
     "execution_count": 4,
     "metadata": {},
     "output_type": "execute_result"
    }
   ],
   "source": [
    "norm = np.linalg.norm(a)\n",
    "norm"
   ]
  },
  {
   "cell_type": "code",
   "execution_count": 5,
   "id": "ae70d02a",
   "metadata": {},
   "outputs": [],
   "source": [
    "a_new=[]\n",
    "scalar = 2\n",
    "for i in a:\n",
    "    a_new.append(i*scalar)"
   ]
  },
  {
   "cell_type": "code",
   "execution_count": 6,
   "id": "071638f1",
   "metadata": {},
   "outputs": [
    {
     "data": {
      "text/plain": [
       "([6, 4, 2], array([6, 4, 2]))"
      ]
     },
     "execution_count": 6,
     "metadata": {},
     "output_type": "execute_result"
    }
   ],
   "source": [
    "a_new, 2*a"
   ]
  },
  {
   "cell_type": "code",
   "execution_count": 7,
   "id": "8e2d878d",
   "metadata": {},
   "outputs": [],
   "source": [
    "b = np.array([1,2,3])"
   ]
  },
  {
   "cell_type": "code",
   "execution_count": 8,
   "id": "e5a3c735",
   "metadata": {},
   "outputs": [
    {
     "data": {
      "text/plain": [
       "array([4, 4, 4])"
      ]
     },
     "execution_count": 8,
     "metadata": {},
     "output_type": "execute_result"
    }
   ],
   "source": [
    "a + b"
   ]
  },
  {
   "cell_type": "code",
   "execution_count": 9,
   "id": "c0586a9a",
   "metadata": {},
   "outputs": [
    {
     "data": {
      "text/plain": [
       "10"
      ]
     },
     "execution_count": 9,
     "metadata": {},
     "output_type": "execute_result"
    }
   ],
   "source": [
    "a.dot(b)"
   ]
  },
  {
   "cell_type": "code",
   "execution_count": 10,
   "id": "796358a9",
   "metadata": {},
   "outputs": [
    {
     "data": {
      "text/plain": [
       "10"
      ]
     },
     "execution_count": 10,
     "metadata": {},
     "output_type": "execute_result"
    }
   ],
   "source": [
    "np.dot(a,b)"
   ]
  },
  {
   "cell_type": "code",
   "execution_count": 11,
   "id": "aa28410a",
   "metadata": {},
   "outputs": [
    {
     "data": {
      "text/plain": [
       "10"
      ]
     },
     "execution_count": 11,
     "metadata": {},
     "output_type": "execute_result"
    }
   ],
   "source": [
    "np.dot(a,b)"
   ]
  },
  {
   "cell_type": "code",
   "execution_count": 12,
   "id": "95a659fb",
   "metadata": {},
   "outputs": [
    {
     "data": {
      "text/plain": [
       "10"
      ]
     },
     "execution_count": 12,
     "metadata": {},
     "output_type": "execute_result"
    }
   ],
   "source": [
    "sum(a*b)"
   ]
  },
  {
   "cell_type": "code",
   "execution_count": 13,
   "id": "4e92a94d",
   "metadata": {},
   "outputs": [
    {
     "data": {
      "text/plain": [
       "10"
      ]
     },
     "execution_count": 13,
     "metadata": {},
     "output_type": "execute_result"
    }
   ],
   "source": [
    "np.sum(a*b)"
   ]
  },
  {
   "cell_type": "code",
   "execution_count": 14,
   "id": "68e1136f",
   "metadata": {},
   "outputs": [
    {
     "data": {
      "text/plain": [
       "0.31622776601683794"
      ]
     },
     "execution_count": 14,
     "metadata": {},
     "output_type": "execute_result"
    }
   ],
   "source": [
    "# Example\n",
    "\n",
    "PQ = np.array([-1,1,0])\n",
    "PR = np.array([-1,0,2])\n",
    "\n",
    "cos_theta = np.dot(PQ,PR) / (np.linalg.norm(PQ)*np.linalg.norm(PR))\n",
    "cos_theta"
   ]
  },
  {
   "cell_type": "code",
   "execution_count": 15,
   "id": "b265a909",
   "metadata": {},
   "outputs": [
    {
     "data": {
      "text/plain": [
       "3.1622776601683795"
      ]
     },
     "execution_count": 15,
     "metadata": {},
     "output_type": "execute_result"
    }
   ],
   "source": [
    "np.linalg.norm(PQ)*np.linalg.norm(PR)"
   ]
  },
  {
   "cell_type": "code",
   "execution_count": 16,
   "id": "2c4971a5",
   "metadata": {},
   "outputs": [
    {
     "data": {
      "text/plain": [
       "1.2490457723982544"
      ]
     },
     "execution_count": 16,
     "metadata": {},
     "output_type": "execute_result"
    }
   ],
   "source": [
    "theta = np.arccos(cos_theta)\n",
    "theta"
   ]
  },
  {
   "cell_type": "code",
   "execution_count": 17,
   "id": "e60da835",
   "metadata": {},
   "outputs": [
    {
     "data": {
      "image/png": "[encoded data removed]",
      "text/plain": [
       "<Figure size 432x288 with 1 Axes>"
      ]
     },
     "metadata": {
      "needs_background": "light"
     },
     "output_type": "display_data"
    }
   ],
   "source": [
    "# Plotting vectors\n",
    "\n",
    "import matplotlib.pyplot as plt\n",
    "\n",
    "v = [2,9]\n",
    "w = [4,2]\n",
    "\n",
    "array = np.array([[0, 0, v[0], v[1]], \n",
    "                 [0, 0, w[0], w[1]]])\n",
    "\n",
    "X, Y, V, W = zip(*array)\n",
    "plt.figure()\n",
    "plt.ylabel('Y-axis')\n",
    "plt.xlabel('X-axis')\n",
    "ax = plt.gca()\n",
    "ax.annotate(f'v({v[0]},{v[1]})', (v[0],v[1]),fontsize=14)\n",
    "plt.scatter(v[0],v[1], s=10,c='red')\n",
    "ax.annotate(f'w({w[0]},{w[1]})', (w[0],w[1]),fontsize=14)\n",
    "plt.scatter(w[0], w[1], s=10,c='blue')\n",
    "ax.quiver(X, Y, V, W, angles='xy', scale_units='xy',color=['r','b'],scale=1)\n",
    "ax.set_xlim([0, 10])\n",
    "ax.set_ylim([0, 10])\n",
    "\n",
    "plt.grid()\n",
    "plt.draw()\n",
    "plt.show()"
   ]
  },
  {
   "cell_type": "markdown",
   "id": "93736342",
   "metadata": {},
   "source": [
    "# Sympy"
   ]
  },
  {
   "cell_type": "code",
   "execution_count": 5,
   "id": "be20f36e",
   "metadata": {},
   "outputs": [],
   "source": [
    "from sympy import *"
   ]
  },
  {
   "cell_type": "code",
   "execution_count": 6,
   "id": "eec054da",
   "metadata": {},
   "outputs": [],
   "source": [
    "# Vectors"
   ]
  },
  {
   "cell_type": "code",
   "execution_count": 16,
   "id": "95283994",
   "metadata": {},
   "outputs": [
    {
     "data": {
      "text/plain": [
       "(a, b, c, d, e, f)"
      ]
     },
     "execution_count": 16,
     "metadata": {},
     "output_type": "execute_result"
    }
   ],
   "source": [
    "var('a b c d e f')"
   ]
  },
  {
   "cell_type": "code",
   "execution_count": 17,
   "id": "f6986d11",
   "metadata": {},
   "outputs": [
    {
     "data": {
      "text/latex": [
       "$\\displaystyle \\left[\\begin{matrix}a\\\\b\\\\c\\end{matrix}\\right]$"
      ],
      "text/plain": [
       "Matrix([\n",
       "[a],\n",
       "[b],\n",
       "[c]])"
      ]
     },
     "execution_count": 17,
     "metadata": {},
     "output_type": "execute_result"
    }
   ],
   "source": [
    "a = Matrix([a,b,c])\n",
    "a"
   ]
  },
  {
   "cell_type": "code",
   "execution_count": 18,
   "id": "7a554596",
   "metadata": {},
   "outputs": [
    {
     "data": {
      "text/latex": [
       "$\\displaystyle \\sqrt{a^{2} + b^{2} + c^{2}}$"
      ],
      "text/plain": [
       "sqrt(a**2 + b**2 + c**2)"
      ]
     },
     "execution_count": 18,
     "metadata": {},
     "output_type": "execute_result"
    }
   ],
   "source": [
    "sqrt(a.dot(a)) # Norm"
   ]
  },
  {
   "cell_type": "code",
   "execution_count": 19,
   "id": "85b08195",
   "metadata": {},
   "outputs": [],
   "source": [
    "b = Matrix([d,e,f])"
   ]
  },
  {
   "cell_type": "code",
   "execution_count": 20,
   "id": "9181b291",
   "metadata": {},
   "outputs": [
    {
     "data": {
      "text/latex": [
       "$\\displaystyle a d + b e + c f$"
      ],
      "text/plain": [
       "a*d + b*e + c*f"
      ]
     },
     "execution_count": 20,
     "metadata": {},
     "output_type": "execute_result"
    }
   ],
   "source": [
    "a.dot(b)"
   ]
  },
  {
   "cell_type": "code",
   "execution_count": null,
   "id": "cb4959bb",
   "metadata": {},
   "outputs": [],
   "source": []
  }
 ],
 "metadata": {
  "kernelspec": {
   "display_name": "Python 3 (ipykernel)",
   "language": "python",
   "name": "python3"
  },
  "language_info": {
   "codemirror_mode": {
    "name": "ipython",
    "version": 3
   },
   "file_extension": ".py",
   "mimetype": "text/x-python",
   "name": "python",
   "nbconvert_exporter": "python",
   "pygments_lexer": "ipython3",
   "version": "3.9.12"
  }
 },
 "nbformat": 4,
 "nbformat_minor": 5
}
