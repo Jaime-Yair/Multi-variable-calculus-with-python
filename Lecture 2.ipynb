{
 "cells": [
  {
   "cell_type": "code",
   "execution_count": 1,
   "id": "31049ddc",
   "metadata": {},
   "outputs": [],
   "source": [
    "from sympy import *"
   ]
  },
  {
   "cell_type": "code",
   "execution_count": 2,
   "id": "d471ce75",
   "metadata": {},
   "outputs": [
    {
     "data": {
      "text/plain": [
       "(a, b, c, d, e, f, g, h, i)"
      ]
     },
     "execution_count": 2,
     "metadata": {},
     "output_type": "execute_result"
    }
   ],
   "source": [
    "var('a b c d e f g h i' )"
   ]
  },
  {
   "cell_type": "code",
   "execution_count": 3,
   "id": "8db36fe5",
   "metadata": {},
   "outputs": [
    {
     "data": {
      "text/latex": [
       "$\\displaystyle \\left[\\begin{matrix}a & b\\\\c & d\\end{matrix}\\right]$"
      ],
      "text/plain": [
       "Matrix([\n",
       "[a, b],\n",
       "[c, d]])"
      ]
     },
     "execution_count": 3,
     "metadata": {},
     "output_type": "execute_result"
    }
   ],
   "source": [
    "A = Matrix([[a,b],\n",
    "            [c,d]])\n",
    "A"
   ]
  },
  {
   "cell_type": "code",
   "execution_count": 4,
   "id": "14ec7abd",
   "metadata": {},
   "outputs": [
    {
     "data": {
      "text/plain": [
       "(Matrix([\n",
       " [a],\n",
       " [c]]),\n",
       " Matrix([\n",
       " [b],\n",
       " [d]]))"
      ]
     },
     "execution_count": 4,
     "metadata": {},
     "output_type": "execute_result"
    }
   ],
   "source": [
    "a1 = A[:,0]\n",
    "a2 = A[:,1]\n",
    "\n",
    "a1, a2"
   ]
  },
  {
   "cell_type": "code",
   "execution_count": 5,
   "id": "0be01679",
   "metadata": {},
   "outputs": [
    {
     "data": {
      "text/latex": [
       "$\\displaystyle a b + c d$"
      ],
      "text/plain": [
       "a*b + c*d"
      ]
     },
     "execution_count": 5,
     "metadata": {},
     "output_type": "execute_result"
    }
   ],
   "source": [
    "a1.dot(a2)"
   ]
  },
  {
   "cell_type": "code",
   "execution_count": 6,
   "id": "21b0d1b7",
   "metadata": {},
   "outputs": [
    {
     "data": {
      "text/latex": [
       "$\\displaystyle a d - b c$"
      ],
      "text/plain": [
       "a*d - b*c"
      ]
     },
     "execution_count": 6,
     "metadata": {},
     "output_type": "execute_result"
    }
   ],
   "source": [
    "A.det()"
   ]
  },
  {
   "cell_type": "code",
   "execution_count": 7,
   "id": "62056678",
   "metadata": {},
   "outputs": [
    {
     "data": {
      "text/latex": [
       "$\\displaystyle \\left[\\begin{matrix}a & b & c\\\\d & e & f\\\\g & h & i\\end{matrix}\\right]$"
      ],
      "text/plain": [
       "Matrix([\n",
       "[a, b, c],\n",
       "[d, e, f],\n",
       "[g, h, i]])"
      ]
     },
     "execution_count": 7,
     "metadata": {},
     "output_type": "execute_result"
    }
   ],
   "source": [
    "B = Matrix([[a, b, c],\n",
    "           [d, e, f],\n",
    "           [g, h, i]])\n",
    "B"
   ]
  },
  {
   "cell_type": "code",
   "execution_count": 8,
   "id": "a6e7aca3",
   "metadata": {},
   "outputs": [
    {
     "data": {
      "text/latex": [
       "$\\displaystyle a e i - a f h - b d i + b f g + c d h - c e g$"
      ],
      "text/plain": [
       "a*e*i - a*f*h - b*d*i + b*f*g + c*d*h - c*e*g"
      ]
     },
     "execution_count": 8,
     "metadata": {},
     "output_type": "execute_result"
    }
   ],
   "source": [
    "B.det()"
   ]
  },
  {
   "cell_type": "code",
   "execution_count": 9,
   "id": "944dfe08",
   "metadata": {},
   "outputs": [
    {
     "data": {
      "text/plain": [
       "(i, j, k)"
      ]
     },
     "execution_count": 9,
     "metadata": {},
     "output_type": "execute_result"
    }
   ],
   "source": [
    "var('i j k')"
   ]
  },
  {
   "cell_type": "code",
   "execution_count": 10,
   "id": "0d24cffa",
   "metadata": {},
   "outputs": [],
   "source": [
    "A = Matrix([[i,j,k],\n",
    "           [1,0,0],\n",
    "           [0,1,0]])"
   ]
  },
  {
   "cell_type": "code",
   "execution_count": 11,
   "id": "5f0d6ad3",
   "metadata": {},
   "outputs": [
    {
     "data": {
      "text/latex": [
       "$\\displaystyle k$"
      ],
      "text/plain": [
       "k"
      ]
     },
     "execution_count": 11,
     "metadata": {},
     "output_type": "execute_result"
    }
   ],
   "source": [
    "A.det()"
   ]
  },
  {
   "cell_type": "code",
   "execution_count": 19,
   "id": "a7b8aece",
   "metadata": {},
   "outputs": [],
   "source": [
    "import numpy as np"
   ]
  },
  {
   "cell_type": "code",
   "execution_count": 43,
   "id": "3a707a49",
   "metadata": {},
   "outputs": [
    {
     "data": {
      "text/plain": [
       "array([[0.04266956, 0.24876885, 0.33693854],\n",
       "       [0.59171336, 0.0354712 , 0.95416879],\n",
       "       [0.45581947, 0.72039054, 0.46192321]])"
      ]
     },
     "execution_count": 43,
     "metadata": {},
     "output_type": "execute_result"
    }
   ],
   "source": [
    "A = np.random.rand(3,3)\n",
    "A"
   ]
  },
  {
   "cell_type": "code",
   "execution_count": 44,
   "id": "f6276239",
   "metadata": {},
   "outputs": [
    {
     "data": {
      "text/plain": [
       "0.14974810629167062"
      ]
     },
     "execution_count": 44,
     "metadata": {},
     "output_type": "execute_result"
    }
   ],
   "source": [
    "np.linalg.det(A)"
   ]
  },
  {
   "cell_type": "code",
   "execution_count": null,
   "id": "1aa24151",
   "metadata": {},
   "outputs": [],
   "source": []
  }
 ],
 "metadata": {
  "kernelspec": {
   "display_name": "Python 3 (ipykernel)",
   "language": "python",
   "name": "python3"
  },
  "language_info": {
   "codemirror_mode": {
    "name": "ipython",
    "version": 3
   },
   "file_extension": ".py",
   "mimetype": "text/x-python",
   "name": "python",
   "nbconvert_exporter": "python",
   "pygments_lexer": "ipython3",
   "version": "3.9.12"
  }
 },
 "nbformat": 4,
 "nbformat_minor": 5
}
